{
 "cells": [
  {
   "cell_type": "markdown",
   "metadata": {},
   "source": [
    "# Làm sạch đữ liệu cơ bản"
   ]
  },
  {
   "cell_type": "markdown",
   "metadata": {},
   "source": [
    "## 1. Tạo dữ liệu"
   ]
  },
  {
   "cell_type": "code",
   "execution_count": 21,
   "metadata": {},
   "outputs": [
    {
     "name": "stdout",
     "output_type": "stream",
     "text": [
      "   Id   Name  Age                Email    Salary\n",
      "0   1    Anh   15       anh@vlu.edu.vn       NaN\n",
      "1   2     Em   14         em@gmail.com   70000.0\n",
      "2   3  Phong   18  phong@vanlanguni.vn   10000.0\n",
      "3   4    Phú   28        phu@yahoo.com  250000.0\n",
      "4   5   None   50                 None   15000.0\n"
     ]
    }
   ],
   "source": [
    "import pandas as pd  \n",
    "data ={\n",
    "    \"Id\": [1, 2, 3, 4, 5],\n",
    "    \"Name\": [\"Anh\", \"Em\", \"Phong\", \"Phú\", None],\n",
    "    \"Age\": [15, 14, 18, 28, 50],\n",
    "    \"Email\": [\"anh@vlu.edu.vn\", \"em@gmail.com\", \"phong@vanlanguni.vn\", \"phu@yahoo.com\", None],\n",
    "    \"Salary\": [None, 70000, 10000, 250000, 15000]\n",
    "}\n",
    "df = pd.DataFrame(data)\n",
    "print(df)"
   ]
  },
  {
   "cell_type": "code",
   "execution_count": 22,
   "metadata": {},
   "outputs": [
    {
     "data": {
      "text/html": [
       "<div>\n",
       "<style scoped>\n",
       "    .dataframe tbody tr th:only-of-type {\n",
       "        vertical-align: middle;\n",
       "    }\n",
       "\n",
       "    .dataframe tbody tr th {\n",
       "        vertical-align: top;\n",
       "    }\n",
       "\n",
       "    .dataframe thead th {\n",
       "        text-align: right;\n",
       "    }\n",
       "</style>\n",
       "<table border=\"1\" class=\"dataframe\">\n",
       "  <thead>\n",
       "    <tr style=\"text-align: right;\">\n",
       "      <th></th>\n",
       "      <th>Id</th>\n",
       "      <th>Name</th>\n",
       "      <th>Age</th>\n",
       "      <th>Email</th>\n",
       "      <th>Salary</th>\n",
       "    </tr>\n",
       "  </thead>\n",
       "  <tbody>\n",
       "    <tr>\n",
       "      <th>0</th>\n",
       "      <td>1</td>\n",
       "      <td>Anh</td>\n",
       "      <td>15</td>\n",
       "      <td>anh@vlu.edu.vn</td>\n",
       "      <td>NaN</td>\n",
       "    </tr>\n",
       "    <tr>\n",
       "      <th>1</th>\n",
       "      <td>2</td>\n",
       "      <td>Em</td>\n",
       "      <td>14</td>\n",
       "      <td>em@gmail.com</td>\n",
       "      <td>70000.0</td>\n",
       "    </tr>\n",
       "    <tr>\n",
       "      <th>2</th>\n",
       "      <td>3</td>\n",
       "      <td>Phong</td>\n",
       "      <td>18</td>\n",
       "      <td>phong@vanlanguni.vn</td>\n",
       "      <td>10000.0</td>\n",
       "    </tr>\n",
       "    <tr>\n",
       "      <th>3</th>\n",
       "      <td>4</td>\n",
       "      <td>Phú</td>\n",
       "      <td>28</td>\n",
       "      <td>phu@yahoo.com</td>\n",
       "      <td>250000.0</td>\n",
       "    </tr>\n",
       "    <tr>\n",
       "      <th>4</th>\n",
       "      <td>5</td>\n",
       "      <td>None</td>\n",
       "      <td>50</td>\n",
       "      <td>None</td>\n",
       "      <td>15000.0</td>\n",
       "    </tr>\n",
       "  </tbody>\n",
       "</table>\n",
       "</div>"
      ],
      "text/plain": [
       "   Id   Name  Age                Email    Salary\n",
       "0   1    Anh   15       anh@vlu.edu.vn       NaN\n",
       "1   2     Em   14         em@gmail.com   70000.0\n",
       "2   3  Phong   18  phong@vanlanguni.vn   10000.0\n",
       "3   4    Phú   28        phu@yahoo.com  250000.0\n",
       "4   5   None   50                 None   15000.0"
      ]
     },
     "execution_count": 22,
     "metadata": {},
     "output_type": "execute_result"
    }
   ],
   "source": [
    "# lấy ra 5 dòng đầu tiên\n",
    "df.head()\n"
   ]
  },
  {
   "cell_type": "code",
   "execution_count": 23,
   "metadata": {},
   "outputs": [
    {
     "data": {
      "text/plain": [
       "Id        0\n",
       "Name      1\n",
       "Age       0\n",
       "Email     1\n",
       "Salary    1\n",
       "dtype: int64"
      ]
     },
     "execution_count": 23,
     "metadata": {},
     "output_type": "execute_result"
    }
   ],
   "source": [
    "#kiểm tra dữ liệu thiếu\n",
    "df.isnull().sum()"
   ]
  },
  {
   "cell_type": "code",
   "execution_count": 25,
   "metadata": {},
   "outputs": [
    {
     "name": "stderr",
     "output_type": "stream",
     "text": [
      "C:\\Users\\ADMIN\\AppData\\Local\\Temp\\ipykernel_4756\\286716539.py:2: FutureWarning: A value is trying to be set on a copy of a DataFrame or Series through chained assignment using an inplace method.\n",
      "The behavior will change in pandas 3.0. This inplace method will never work because the intermediate object on which we are setting values always behaves as a copy.\n",
      "\n",
      "For example, when doing 'df[col].method(value, inplace=True)', try using 'df.method({col: value}, inplace=True)' or df[col] = df[col].method(value) instead, to perform the operation inplace on the original object.\n",
      "\n",
      "\n",
      "  df[\"Salary\"].fillna(df[\"Salary\"].mean(), inplace = True)\n"
     ]
    }
   ],
   "source": [
    "#Điền giá trị thiếu bằng giá trị trung bình cho cụm salary\n",
    "df[\"Salary\"].fillna(df[\"Salary\"].mean(), inplace = True)"
   ]
  },
  {
   "cell_type": "code",
   "execution_count": 26,
   "metadata": {},
   "outputs": [
    {
     "name": "stderr",
     "output_type": "stream",
     "text": [
      "C:\\Users\\ADMIN\\AppData\\Local\\Temp\\ipykernel_4756\\1477559792.py:2: FutureWarning: A value is trying to be set on a copy of a DataFrame or Series through chained assignment using an inplace method.\n",
      "The behavior will change in pandas 3.0. This inplace method will never work because the intermediate object on which we are setting values always behaves as a copy.\n",
      "\n",
      "For example, when doing 'df[col].method(value, inplace=True)', try using 'df.method({col: value}, inplace=True)' or df[col] = df[col].method(value) instead, to perform the operation inplace on the original object.\n",
      "\n",
      "\n",
      "  df[\"Name\"].fillna(\"Unknow\", inplace = True)\n",
      "C:\\Users\\ADMIN\\AppData\\Local\\Temp\\ipykernel_4756\\1477559792.py:4: FutureWarning: A value is trying to be set on a copy of a DataFrame or Series through chained assignment using an inplace method.\n",
      "The behavior will change in pandas 3.0. This inplace method will never work because the intermediate object on which we are setting values always behaves as a copy.\n",
      "\n",
      "For example, when doing 'df[col].method(value, inplace=True)', try using 'df.method({col: value}, inplace=True)' or df[col] = df[col].method(value) instead, to perform the operation inplace on the original object.\n",
      "\n",
      "\n",
      "  df[\"Email\"].fillna(\"Unknow\", inplace = True)\n"
     ]
    }
   ],
   "source": [
    "#điền giá trị thiếu bằng Unknow cho cột \"Name\" và cột \"Email\" \n",
    "df[\"Name\"].fillna(\"Unknow\", inplace = True)\n",
    "\n",
    "df[\"Email\"].fillna(\"Unknow\", inplace = True)"
   ]
  },
  {
   "cell_type": "code",
   "execution_count": 28,
   "metadata": {},
   "outputs": [
    {
     "data": {
      "text/plain": [
       "Id        0\n",
       "Name      0\n",
       "Age       0\n",
       "Email     0\n",
       "Salary    0\n",
       "dtype: int64"
      ]
     },
     "execution_count": 28,
     "metadata": {},
     "output_type": "execute_result"
    }
   ],
   "source": [
    "#kiểm tra dữ liệu thiếu\n",
    "df.isnull().sum()"
   ]
  },
  {
   "cell_type": "code",
   "execution_count": 30,
   "metadata": {},
   "outputs": [
    {
     "data": {
      "text/html": [
       "<div>\n",
       "<style scoped>\n",
       "    .dataframe tbody tr th:only-of-type {\n",
       "        vertical-align: middle;\n",
       "    }\n",
       "\n",
       "    .dataframe tbody tr th {\n",
       "        vertical-align: top;\n",
       "    }\n",
       "\n",
       "    .dataframe thead th {\n",
       "        text-align: right;\n",
       "    }\n",
       "</style>\n",
       "<table border=\"1\" class=\"dataframe\">\n",
       "  <thead>\n",
       "    <tr style=\"text-align: right;\">\n",
       "      <th></th>\n",
       "      <th>Id</th>\n",
       "      <th>Name</th>\n",
       "      <th>Age</th>\n",
       "      <th>Email</th>\n",
       "      <th>Salary</th>\n",
       "    </tr>\n",
       "  </thead>\n",
       "  <tbody>\n",
       "    <tr>\n",
       "      <th>0</th>\n",
       "      <td>1</td>\n",
       "      <td>Anh</td>\n",
       "      <td>15</td>\n",
       "      <td>anh@vlu.edu.vn</td>\n",
       "      <td>86250.0</td>\n",
       "    </tr>\n",
       "    <tr>\n",
       "      <th>1</th>\n",
       "      <td>2</td>\n",
       "      <td>Em</td>\n",
       "      <td>14</td>\n",
       "      <td>em@gmail.com</td>\n",
       "      <td>70000.0</td>\n",
       "    </tr>\n",
       "    <tr>\n",
       "      <th>2</th>\n",
       "      <td>3</td>\n",
       "      <td>Phong</td>\n",
       "      <td>18</td>\n",
       "      <td>phong@vanlanguni.vn</td>\n",
       "      <td>10000.0</td>\n",
       "    </tr>\n",
       "    <tr>\n",
       "      <th>3</th>\n",
       "      <td>4</td>\n",
       "      <td>Phú</td>\n",
       "      <td>28</td>\n",
       "      <td>phu@yahoo.com</td>\n",
       "      <td>250000.0</td>\n",
       "    </tr>\n",
       "    <tr>\n",
       "      <th>4</th>\n",
       "      <td>5</td>\n",
       "      <td>Unknow</td>\n",
       "      <td>50</td>\n",
       "      <td>Unknow</td>\n",
       "      <td>15000.0</td>\n",
       "    </tr>\n",
       "  </tbody>\n",
       "</table>\n",
       "</div>"
      ],
      "text/plain": [
       "   Id    Name  Age                Email    Salary\n",
       "0   1     Anh   15       anh@vlu.edu.vn   86250.0\n",
       "1   2      Em   14         em@gmail.com   70000.0\n",
       "2   3   Phong   18  phong@vanlanguni.vn   10000.0\n",
       "3   4     Phú   28        phu@yahoo.com  250000.0\n",
       "4   5  Unknow   50               Unknow   15000.0"
      ]
     },
     "execution_count": 30,
     "metadata": {},
     "output_type": "execute_result"
    }
   ],
   "source": [
    "#loại bỏ dữ trùng lặp\n",
    "df.drop_duplicates(inplace = True)\n",
    "df"
   ]
  },
  {
   "cell_type": "code",
   "execution_count": 31,
   "metadata": {},
   "outputs": [
    {
     "data": {
      "text/html": [
       "<div>\n",
       "<style scoped>\n",
       "    .dataframe tbody tr th:only-of-type {\n",
       "        vertical-align: middle;\n",
       "    }\n",
       "\n",
       "    .dataframe tbody tr th {\n",
       "        vertical-align: top;\n",
       "    }\n",
       "\n",
       "    .dataframe thead th {\n",
       "        text-align: right;\n",
       "    }\n",
       "</style>\n",
       "<table border=\"1\" class=\"dataframe\">\n",
       "  <thead>\n",
       "    <tr style=\"text-align: right;\">\n",
       "      <th></th>\n",
       "      <th>Id</th>\n",
       "      <th>Name</th>\n",
       "      <th>Age</th>\n",
       "      <th>Email</th>\n",
       "      <th>Salary</th>\n",
       "    </tr>\n",
       "  </thead>\n",
       "  <tbody>\n",
       "    <tr>\n",
       "      <th>0</th>\n",
       "      <td>1</td>\n",
       "      <td>Anh</td>\n",
       "      <td>15</td>\n",
       "      <td>anh@vlu.edu.vn</td>\n",
       "      <td>86250.0</td>\n",
       "    </tr>\n",
       "    <tr>\n",
       "      <th>1</th>\n",
       "      <td>2</td>\n",
       "      <td>Em</td>\n",
       "      <td>14</td>\n",
       "      <td>em@gmail.com</td>\n",
       "      <td>70000.0</td>\n",
       "    </tr>\n",
       "    <tr>\n",
       "      <th>2</th>\n",
       "      <td>3</td>\n",
       "      <td>Phong</td>\n",
       "      <td>18</td>\n",
       "      <td>phong@vanlanguni.vn</td>\n",
       "      <td>10000.0</td>\n",
       "    </tr>\n",
       "    <tr>\n",
       "      <th>3</th>\n",
       "      <td>4</td>\n",
       "      <td>Phú</td>\n",
       "      <td>28</td>\n",
       "      <td>phu@yahoo.com</td>\n",
       "      <td>250000.0</td>\n",
       "    </tr>\n",
       "    <tr>\n",
       "      <th>4</th>\n",
       "      <td>5</td>\n",
       "      <td>Unknow</td>\n",
       "      <td>50</td>\n",
       "      <td>Unknow</td>\n",
       "      <td>15000.0</td>\n",
       "    </tr>\n",
       "  </tbody>\n",
       "</table>\n",
       "</div>"
      ],
      "text/plain": [
       "   Id    Name  Age                Email    Salary\n",
       "0   1     Anh   15       anh@vlu.edu.vn   86250.0\n",
       "1   2      Em   14         em@gmail.com   70000.0\n",
       "2   3   Phong   18  phong@vanlanguni.vn   10000.0\n",
       "3   4     Phú   28        phu@yahoo.com  250000.0\n",
       "4   5  Unknow   50               Unknow   15000.0"
      ]
     },
     "execution_count": 31,
     "metadata": {},
     "output_type": "execute_result"
    }
   ],
   "source": [
    "# chuẩn hóa cột name bằng cách viết hoa chữ cái đầu\n",
    "df[\"Name\"] = df[\"Name\"].str.title()\n",
    "df"
   ]
  },
  {
   "cell_type": "code",
   "execution_count": 32,
   "metadata": {},
   "outputs": [
    {
     "data": {
      "text/html": [
       "<div>\n",
       "<style scoped>\n",
       "    .dataframe tbody tr th:only-of-type {\n",
       "        vertical-align: middle;\n",
       "    }\n",
       "\n",
       "    .dataframe tbody tr th {\n",
       "        vertical-align: top;\n",
       "    }\n",
       "\n",
       "    .dataframe thead th {\n",
       "        text-align: right;\n",
       "    }\n",
       "</style>\n",
       "<table border=\"1\" class=\"dataframe\">\n",
       "  <thead>\n",
       "    <tr style=\"text-align: right;\">\n",
       "      <th></th>\n",
       "      <th>Id</th>\n",
       "      <th>Name</th>\n",
       "      <th>Age</th>\n",
       "      <th>Email</th>\n",
       "      <th>Salary</th>\n",
       "    </tr>\n",
       "  </thead>\n",
       "  <tbody>\n",
       "    <tr>\n",
       "      <th>0</th>\n",
       "      <td>1</td>\n",
       "      <td>Anh</td>\n",
       "      <td>15</td>\n",
       "      <td>anh@vlu.edu.vn</td>\n",
       "      <td>86250.0</td>\n",
       "    </tr>\n",
       "    <tr>\n",
       "      <th>1</th>\n",
       "      <td>2</td>\n",
       "      <td>Em</td>\n",
       "      <td>14</td>\n",
       "      <td>em@gmail.com</td>\n",
       "      <td>70000.0</td>\n",
       "    </tr>\n",
       "    <tr>\n",
       "      <th>2</th>\n",
       "      <td>3</td>\n",
       "      <td>Phong</td>\n",
       "      <td>18</td>\n",
       "      <td>phong@vanlanguni.vn</td>\n",
       "      <td>10000.0</td>\n",
       "    </tr>\n",
       "    <tr>\n",
       "      <th>3</th>\n",
       "      <td>4</td>\n",
       "      <td>Phú</td>\n",
       "      <td>28</td>\n",
       "      <td>phu@yahoo.com</td>\n",
       "      <td>250000.0</td>\n",
       "    </tr>\n",
       "    <tr>\n",
       "      <th>4</th>\n",
       "      <td>5</td>\n",
       "      <td>Unknow</td>\n",
       "      <td>50</td>\n",
       "      <td>unknow</td>\n",
       "      <td>15000.0</td>\n",
       "    </tr>\n",
       "  </tbody>\n",
       "</table>\n",
       "</div>"
      ],
      "text/plain": [
       "   Id    Name  Age                Email    Salary\n",
       "0   1     Anh   15       anh@vlu.edu.vn   86250.0\n",
       "1   2      Em   14         em@gmail.com   70000.0\n",
       "2   3   Phong   18  phong@vanlanguni.vn   10000.0\n",
       "3   4     Phú   28        phu@yahoo.com  250000.0\n",
       "4   5  Unknow   50               unknow   15000.0"
      ]
     },
     "execution_count": 32,
     "metadata": {},
     "output_type": "execute_result"
    }
   ],
   "source": [
    "#Chuẩn hóa cột email bằng cách chuyển về chữ thường\n",
    "df[\"Email\"] = df[\"Email\"].str.lower()\n",
    "df"
   ]
  },
  {
   "cell_type": "code",
   "execution_count": 33,
   "metadata": {},
   "outputs": [],
   "source": [
    "#Lưu dữ liệu đẫ làm sạch\n",
    "df.to_csv(\"Dulieulamsach.csv\", index = False)"
   ]
  },
  {
   "cell_type": "markdown",
   "metadata": {},
   "source": [
    "# Bài tập về nhà "
   ]
  },
  {
   "cell_type": "markdown",
   "metadata": {},
   "source": [
    "### Cho dữ liệu dirty_data.csv\n",
    "\n",
    "1. kiểm tra dữ liệu bị thiếu\n",
    "    - kiểm tra các cột có dữ liệu thiếu\n",
    "    - điền giá trị phù hợp hoặc loại bỏ các hàng có quá nhiều dữ liệu thiếu\n",
    "2. Phát thiện và sửa lỗi dữ liệu bất thường \n",
    "    - Tìm các giá trị bất thường trong cột tuổi(age) có thể là âm hoặc quá lớn\n",
    "    - kiểm tra cột thu nhập( income) để phát hiện dữ liệu bị sai \n",
    "3. Chuẩn hóa dạng dữ liệu\n",
    "    - Chuyển đổi cột ngày sinh về dạng cchuaanr yyyy-mm-đ\n",
    "    - Chuẩn hóa dữ liệu trong cột giới tính(gender) để chỉ có 2 giới tính hợp lệ \"Male\" và \"Female\"\n",
    "4. xóa bỏ dữ liệu trùng lặp\n",
    "    - xác định và xóa các bản ghi trùng lặp dựa trên thông tin khách hàng \n",
    "5. Xuất dữ liệu sạch\n",
    "    - Lưu dữ liệu đã làm sạch thành tệp mới clean_data.csv\n"
   ]
  },
  {
   "cell_type": "code",
   "execution_count": 35,
   "metadata": {},
   "outputs": [
    {
     "ename": "SyntaxError",
     "evalue": "(unicode error) 'unicodeescape' codec can't decode bytes in position 15-16: malformed \\N character escape (967132725.py, line 2)",
     "output_type": "error",
     "traceback": [
      "\u001b[1;36m  Cell \u001b[1;32mIn[35], line 2\u001b[1;36m\u001b[0m\n\u001b[1;33m    df = pd.read_csv('D:\\train python\\Newbie_PhantichGiuLieu_HocMay\\dirtydata.csv')\u001b[0m\n\u001b[1;37m                                                                                  ^\u001b[0m\n\u001b[1;31mSyntaxError\u001b[0m\u001b[1;31m:\u001b[0m (unicode error) 'unicodeescape' codec can't decode bytes in position 15-16: malformed \\N character escape\n"
     ]
    }
   ],
   "source": [
    "import pandas as pd \n",
    "df = pd.read_csv('D:\\train python\\Newbie_PhantichGiuLieu_HocMay\\dirty_data.csv')\n"
   ]
  }
 ],
 "metadata": {
  "kernelspec": {
   "display_name": "Python 3",
   "language": "python",
   "name": "python3"
  },
  "language_info": {
   "codemirror_mode": {
    "name": "ipython",
    "version": 3
   },
   "file_extension": ".py",
   "mimetype": "text/x-python",
   "name": "python",
   "nbconvert_exporter": "python",
   "pygments_lexer": "ipython3",
   "version": "3.10.11"
  }
 },
 "nbformat": 4,
 "nbformat_minor": 2
}
